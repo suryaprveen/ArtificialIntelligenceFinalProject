{
  "nbformat": 4,
  "nbformat_minor": 0,
  "metadata": {
    "colab": {
      "provenance": []
    },
    "kernelspec": {
      "name": "python3",
      "display_name": "Python 3"
    },
    "language_info": {
      "name": "python"
    }
  },
  "cells": [
    {
      "cell_type": "code",
      "execution_count": null,
      "metadata": {
        "colab": {
          "base_uri": "https://localhost:8080/"
        },
        "id": "T1Jy-w3UxPmQ",
        "outputId": "3dd38b3f-f3cb-4e8f-c78d-d0b8cc3452db"
      },
      "outputs": [
        {
          "output_type": "stream",
          "name": "stdout",
          "text": [
            "Drive already mounted at /content/gdrive; to attempt to forcibly remount, call drive.mount(\"/content/gdrive\", force_remount=True).\n"
          ]
        }
      ],
      "source": [
        "\"\"\" This code mounts the Google Drive to the Colab notebook environment to access and work with files stored in the drive.\"\"\"\n",
        "\n",
        "from google.colab import drive\n",
        "drive.mount('/content/gdrive')"
      ]
    },
    {
      "cell_type": "code",
      "source": [
        "\"\"\"This code changes the current working directory to 'gdrive/My Drive/fruit/'.\n",
        " It assumes that you have a Google Drive account and have authorized Colab to access it. \n",
        " This will allow you to access files in your Google Drive.\"\"\"\n",
        " \n",
        "import os\n",
        "os.chdir('gdrive/My Drive/fruit/') "
      ],
      "metadata": {
        "id": "vwsxUt5mxZX8"
      },
      "execution_count": null,
      "outputs": []
    },
    {
      "cell_type": "code",
      "source": [],
      "metadata": {
        "id": "tPUHEXsgxbf9"
      },
      "execution_count": null,
      "outputs": []
    },
    {
      "cell_type": "code",
      "source": [
        "\"\"\"This code block imports necessary libraries like OpenCV and matplotlib.pyplot and defines a function called `create_training_data()` \n",
        "which reads image files from directories of fresh and rotten bananas and prepares the training data for machine learning models.\n",
        " `training_data` list is used to store the prepared training data. \n",
        "The `len()` function is used to print the total number of training data samples that are prepared by the `create_training_data()` function. \"\"\"\n",
        "import cv2\n",
        "import matplotlib.pyplot as plt\n",
        "from tqdm import tqdm\n",
        "training_data = []\n",
        "DATADIR = \"dataset/train\"\n",
        "IMG_SIZE = 50\n",
        "\n",
        "CATEGORIES = [\"freshbanana\",\"rottenbanana\"]\n",
        "def create_training_data():\n",
        "    for category in CATEGORIES: \n",
        "\n",
        "        path = os.path.join(DATADIR,category)  \n",
        "        class_num = CATEGORIES.index(category)  \n",
        "\n",
        "        for img in tqdm(os.listdir(path)):  \n",
        "            try:\n",
        "                img_array = cv2.imread(os.path.join(path,img) ,cv2.IMREAD_GRAYSCALE)\n",
        "                new_array = cv2.resize(img_array, (IMG_SIZE, IMG_SIZE)) \n",
        "                training_data.append([new_array, class_num])\n",
        "            except Exception as e:\n",
        "                pass\n",
        "           \n",
        "create_training_data()\n",
        "\n",
        "print(len(training_data))"
      ],
      "metadata": {
        "id": "u3T3Ejj0xsiN",
        "colab": {
          "base_uri": "https://localhost:8080/"
        },
        "outputId": "d0c7fb91-0b18-4ff5-c97a-d4c0e5b64467"
      },
      "execution_count": null,
      "outputs": [
        {
          "output_type": "stream",
          "name": "stderr",
          "text": [
            "100%|██████████| 1581/1581 [00:43<00:00, 36.57it/s] \n",
            "100%|██████████| 2234/2234 [01:17<00:00, 28.67it/s] "
          ]
        },
        {
          "output_type": "stream",
          "name": "stdout",
          "text": [
            "3815\n"
          ]
        },
        {
          "output_type": "stream",
          "name": "stderr",
          "text": [
            "\n"
          ]
        }
      ]
    },
    {
      "cell_type": "code",
      "source": [
        "\"\"\" Priting length of training data \"\"\"\n",
        "\n",
        "print(len(training_data))"
      ],
      "metadata": {
        "colab": {
          "base_uri": "https://localhost:8080/"
        },
        "id": "W-DuekMrx6SY",
        "outputId": "6a32465b-4ca6-4d61-d086-f4c5cf05b4eb"
      },
      "execution_count": null,
      "outputs": [
        {
          "output_type": "stream",
          "name": "stdout",
          "text": [
            "3815\n"
          ]
        }
      ]
    },
    {
      "cell_type": "code",
      "source": [
        "\"\"\" Shuffling the training data is a common practice in machine learning to ensure that the model does not learn patterns based on the order of the data. \n",
        "It randomizes the order of the data, which helps the model to generalize better and not overfit on the training data.\"\"\"\n",
        "\n",
        "import random\n",
        "\n",
        "random.shuffle(training_data)"
      ],
      "metadata": {
        "id": "KNOYRGREy0YI"
      },
      "execution_count": null,
      "outputs": []
    },
    {
      "cell_type": "code",
      "source": [
        "\"\"\"The code displays an image of a banana and prints its corresponding label, which is either 0 or 1. \n",
        "The image and label are obtained from the `training_data` list, which was previously created by loading and preprocessing images from the `DATADIR` directory. \n",
        "The `imshow` function from `matplotlib.pyplot` is used to display the image, and `show` is used to display the plot.\"\"\"\n",
        "plt.imshow(training_data[50][0])\n",
        "plt.show()\n",
        "print(training_data[50][1])"
      ],
      "metadata": {
        "colab": {
          "base_uri": "https://localhost:8080/",
          "height": 449
        },
        "id": "72yGCjLly2DW",
        "outputId": "ba2e4e28-5c34-4caf-a2b0-8cd1165721d8"
      },
      "execution_count": null,
      "outputs": [
        {
          "output_type": "display_data",
          "data": {
            "text/plain": [
              "<Figure size 640x480 with 1 Axes>"
            ],
            "image/png": "[encoded data removed]"
          },
          "metadata": {}
        },
        {
          "output_type": "stream",
          "name": "stdout",
          "text": [
            "1\n"
          ]
        }
      ]
    },
    {
      "cell_type": "code",
      "source": [
        "\"\"\" The code  creates a training dataset `X` by appending the features (reshaped image arrays) and labels of images from the `training_data` list.\n",
        " The features are first appended to a list `X`, and then converted to a numpy array and reshaped to have dimensions of (-1, IMG_SIZE, IMG_SIZE, 1). `-1` in this context means \n",
        " that the size of that dimension is inferred from the size of the other dimensions and the total number of elements in the array.\n",
        " The `y` list contains the labels of the images.\"\"\"\n",
        "X = []\n",
        "y = []\n",
        "import numpy as np\n",
        "for features,label in training_data:\n",
        "    \n",
        "    X.append(features)\n",
        "    y.append(label)\n",
        "\n",
        "print(X[3].reshape(-1, IMG_SIZE, IMG_SIZE, 1))\n",
        "\n",
        "X = np.array(X).reshape(-1, IMG_SIZE, IMG_SIZE, 1)\n",
        "# print(X[3])"
      ],
      "metadata": {
        "colab": {
          "base_uri": "https://localhost:8080/"
        },
        "id": "vAU_t6vhy33B",
        "outputId": "4ab5e1c2-8c3f-4a64-80a8-6e6d73dc1879"
      },
      "execution_count": null,
      "outputs": [
        {
          "output_type": "stream",
          "name": "stdout",
          "text": [
            "[[[[255]\n",
            "   [255]\n",
            "   [255]\n",
            "   ...\n",
            "   [255]\n",
            "   [255]\n",
            "   [255]]\n",
            "\n",
            "  [[255]\n",
            "   [255]\n",
            "   [255]\n",
            "   ...\n",
            "   [255]\n",
            "   [255]\n",
            "   [255]]\n",
            "\n",
            "  [[255]\n",
            "   [255]\n",
            "   [255]\n",
            "   ...\n",
            "   [255]\n",
            "   [255]\n",
            "   [255]]\n",
            "\n",
            "  ...\n",
            "\n",
            "  [[255]\n",
            "   [255]\n",
            "   [254]\n",
            "   ...\n",
            "   [254]\n",
            "   [254]\n",
            "   [255]]\n",
            "\n",
            "  [[255]\n",
            "   [255]\n",
            "   [255]\n",
            "   ...\n",
            "   [254]\n",
            "   [254]\n",
            "   [255]]\n",
            "\n",
            "  [[255]\n",
            "   [255]\n",
            "   [255]\n",
            "   ...\n",
            "   [254]\n",
            "   [254]\n",
            "   [255]]]]\n"
          ]
        }
      ]
    },
    {
      "cell_type": "code",
      "source": [
        "\"\"\" The above code saves the training data `X` and corresponding labels `y` in two separate pickle files (`XX.pickle` and `yy.pickle`)\n",
        " in the Google Drive directory `/content/gdrive/MyDrive/fruit/`.\"\"\"\n",
        " \n",
        "import pickle\n",
        "\n",
        "pickle_out = open(\"/content/gdrive/MyDrive/fruit/XX.pickle\",\"wb\")\n",
        "pickle.dump(X, pickle_out)\n",
        "pickle_out.close()\n",
        "\n",
        "pickle_out = open(\"/content/gdrive/MyDrive/fruit/yy.pickle\",\"wb\")\n",
        "pickle.dump(y, pickle_out)\n",
        "pickle_out.close()"
      ],
      "metadata": {
        "id": "0_3Iihs0y6ts"
      },
      "execution_count": null,
      "outputs": []
    },
    {
      "cell_type": "code",
      "source": [
        "pickle_in = open(\"XX.pickle\",\"rb\")\n",
        "X = pickle.load(pickle_in)\n",
        "\n",
        "pickle_in = open(\"yy.pickle\",\"rb\")\n",
        "y = pickle.load(pickle_in)\n",
        "print(len(X)+len(y))"
      ],
      "metadata": {
        "colab": {
          "base_uri": "https://localhost:8080/"
        },
        "id": "HbqFrDK7zAb8",
        "outputId": "9c93039f-ff14-4cf0-9d8d-14a53d13eff9"
      },
      "execution_count": null,
      "outputs": [
        {
          "output_type": "stream",
          "name": "stdout",
          "text": [
            "7630\n"
          ]
        }
      ]
    },
    {
      "cell_type": "code",
      "source": [],
      "metadata": {
        "id": "FRZiWEEkzSUs"
      },
      "execution_count": null,
      "outputs": []
    }
  ]
}